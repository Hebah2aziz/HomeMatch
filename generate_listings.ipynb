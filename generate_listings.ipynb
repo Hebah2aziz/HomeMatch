from generate_listings import generate_listings

if __name__ == "__main__":
    generate_listings(client, count=10)
